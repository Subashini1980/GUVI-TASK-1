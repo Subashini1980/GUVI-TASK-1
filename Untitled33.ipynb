{
  "nbformat": 4,
  "nbformat_minor": 0,
  "metadata": {
    "colab": {
      "provenance": [],
      "authorship_tag": "ABX9TyNUgg3li9iC5TjFzdLVgQmK",
      "include_colab_link": true
    },
    "kernelspec": {
      "name": "python3",
      "display_name": "Python 3"
    },
    "language_info": {
      "name": "python"
    }
  },
  "cells": [
    {
      "cell_type": "markdown",
      "metadata": {
        "id": "view-in-github",
        "colab_type": "text"
      },
      "source": [
        "<a href=\"https://colab.research.google.com/github/Subashini1980/GUVI-TASK-1/blob/main/Untitled33.ipynb\" target=\"_parent\"><img src=\"https://colab.research.google.com/assets/colab-badge.svg\" alt=\"Open In Colab\"/></a>"
      ]
    },
    {
      "cell_type": "code",
      "execution_count": 5,
      "metadata": {
        "colab": {
          "base_uri": "https://localhost:8080/"
        },
        "id": "0oD0-8tvI36t",
        "outputId": "a39e65d4-2221-4dd5-9374-c05f5c3beeff"
      },
      "outputs": [
        {
          "output_type": "stream",
          "name": "stdout",
          "text": [
            "[[11 21 13]\n",
            " [14 15 16]\n",
            " [27 18 29]]\n"
          ]
        }
      ],
      "source": [
        "import numpy as np\n",
        "x = [[11,21,13],[14,15,16],[27,18,29]]\n",
        "A = np.array(x)\n",
        "print(A)"
      ]
    },
    {
      "cell_type": "code",
      "source": [
        "A.transpose()"
      ],
      "metadata": {
        "colab": {
          "base_uri": "https://localhost:8080/"
        },
        "id": "yjuK43wmJuKE",
        "outputId": "defa595c-9ff9-456b-95f1-ec7c866d30f2"
      },
      "execution_count": 6,
      "outputs": [
        {
          "output_type": "execute_result",
          "data": {
            "text/plain": [
              "array([[11, 14, 27],\n",
              "       [21, 15, 18],\n",
              "       [13, 16, 29]])"
            ]
          },
          "metadata": {},
          "execution_count": 6
        }
      ]
    },
    {
      "cell_type": "code",
      "source": [
        "np.transpose(A)"
      ],
      "metadata": {
        "colab": {
          "base_uri": "https://localhost:8080/"
        },
        "id": "j98fvQa2J3pw",
        "outputId": "da35d25a-3c25-497c-f81d-7921b60dafc7"
      },
      "execution_count": 8,
      "outputs": [
        {
          "output_type": "execute_result",
          "data": {
            "text/plain": [
              "array([[11, 14, 27],\n",
              "       [21, 15, 18],\n",
              "       [13, 16, 29]])"
            ]
          },
          "metadata": {},
          "execution_count": 8
        }
      ]
    },
    {
      "cell_type": "code",
      "source": [
        "A.T"
      ],
      "metadata": {
        "colab": {
          "base_uri": "https://localhost:8080/"
        },
        "id": "atD3B6B_KAbS",
        "outputId": "31142578-4ddc-418b-ae83-f62b1e16e36f"
      },
      "execution_count": 9,
      "outputs": [
        {
          "output_type": "execute_result",
          "data": {
            "text/plain": [
              "array([[11, 14, 27],\n",
              "       [21, 15, 18],\n",
              "       [13, 16, 29]])"
            ]
          },
          "metadata": {},
          "execution_count": 9
        }
      ]
    },
    {
      "cell_type": "code",
      "source": [
        "x = [[11,21,13],[14,15,16],[27,18,29]]\n",
        "A = np.array(x)\n",
        "print(A)"
      ],
      "metadata": {
        "colab": {
          "base_uri": "https://localhost:8080/",
          "height": 208
        },
        "id": "t9BuBKaRJPTH",
        "outputId": "a2061cd3-af2b-44e8-eea4-59b600b440bf"
      },
      "execution_count": 1,
      "outputs": [
        {
          "output_type": "error",
          "ename": "NameError",
          "evalue": "ignored",
          "traceback": [
            "\u001b[0;31m---------------------------------------------------------------------------\u001b[0m",
            "\u001b[0;31mNameError\u001b[0m                                 Traceback (most recent call last)",
            "\u001b[0;32m<ipython-input-1-659cdf558378>\u001b[0m in \u001b[0;36m<module>\u001b[0;34m\u001b[0m\n\u001b[1;32m      1\u001b[0m \u001b[0mx\u001b[0m \u001b[0;34m=\u001b[0m \u001b[0;34m[\u001b[0m\u001b[0;34m[\u001b[0m\u001b[0;36m11\u001b[0m\u001b[0;34m,\u001b[0m\u001b[0;36m21\u001b[0m\u001b[0;34m,\u001b[0m\u001b[0;36m13\u001b[0m\u001b[0;34m]\u001b[0m\u001b[0;34m,\u001b[0m\u001b[0;34m[\u001b[0m\u001b[0;36m14\u001b[0m\u001b[0;34m,\u001b[0m\u001b[0;36m15\u001b[0m\u001b[0;34m,\u001b[0m\u001b[0;36m16\u001b[0m\u001b[0;34m]\u001b[0m\u001b[0;34m,\u001b[0m\u001b[0;34m[\u001b[0m\u001b[0;36m27\u001b[0m\u001b[0;34m,\u001b[0m\u001b[0;36m18\u001b[0m\u001b[0;34m,\u001b[0m\u001b[0;36m29\u001b[0m\u001b[0;34m]\u001b[0m\u001b[0;34m]\u001b[0m\u001b[0;34m\u001b[0m\u001b[0;34m\u001b[0m\u001b[0m\n\u001b[0;32m----> 2\u001b[0;31m \u001b[0mA\u001b[0m \u001b[0;34m=\u001b[0m \u001b[0mnp\u001b[0m\u001b[0;34m.\u001b[0m\u001b[0marray\u001b[0m\u001b[0;34m(\u001b[0m\u001b[0mx\u001b[0m\u001b[0;34m)\u001b[0m\u001b[0;34m\u001b[0m\u001b[0;34m\u001b[0m\u001b[0m\n\u001b[0m\u001b[1;32m      3\u001b[0m \u001b[0mprint\u001b[0m\u001b[0;34m(\u001b[0m\u001b[0mA\u001b[0m\u001b[0;34m)\u001b[0m\u001b[0;34m\u001b[0m\u001b[0;34m\u001b[0m\u001b[0m\n",
            "\u001b[0;31mNameError\u001b[0m: name 'np' is not defined"
          ]
        }
      ]
    },
    {
      "cell_type": "code",
      "source": [
        "x = [[11,21,13],[14,15,16],[27,18,29]]\n",
        "A = np.array(x)\n",
        "print(A)\n",
        "print(A.std())"
      ],
      "metadata": {
        "colab": {
          "base_uri": "https://localhost:8080/"
        },
        "id": "eFfej1eiJPfA",
        "outputId": "d9e8c36c-053f-4b10-8f31-4430acdf6747"
      },
      "execution_count": 10,
      "outputs": [
        {
          "output_type": "stream",
          "name": "stdout",
          "text": [
            "[[11 21 13]\n",
            " [14 15 16]\n",
            " [27 18 29]]\n",
            "5.902499993463745\n"
          ]
        }
      ]
    },
    {
      "cell_type": "code",
      "source": [
        "x = np.ones(shape=(3,3), dtype='int')\n",
        "for i in x.flatten():\n",
        "  print(i)"
      ],
      "metadata": {
        "colab": {
          "base_uri": "https://localhost:8080/"
        },
        "id": "NWRBWKM0JPlf",
        "outputId": "98d5e16d-97cd-46bc-d1b8-8299bf3560fc"
      },
      "execution_count": 19,
      "outputs": [
        {
          "output_type": "stream",
          "name": "stdout",
          "text": [
            "1\n",
            "1\n",
            "1\n",
            "1\n",
            "1\n",
            "1\n",
            "1\n",
            "1\n",
            "1\n"
          ]
        }
      ]
    },
    {
      "cell_type": "code",
      "source": [
        "x = np.zeros((3,2), dtype='int')\n",
        "for i in x:\n",
        "  print(i)"
      ],
      "metadata": {
        "colab": {
          "base_uri": "https://localhost:8080/"
        },
        "id": "hEeVLvPiJPte",
        "outputId": "b1f96017-4092-4296-c229-db5992194853"
      },
      "execution_count": 23,
      "outputs": [
        {
          "output_type": "stream",
          "name": "stdout",
          "text": [
            "[0 0]\n",
            "[0 0]\n",
            "[0 0]\n"
          ]
        }
      ]
    },
    {
      "cell_type": "code",
      "source": [
        "x = np.zeros((3,3), dtype='int')\n",
        "y=np.linalg.det(x)\n",
        "print(y)"
      ],
      "metadata": {
        "colab": {
          "base_uri": "https://localhost:8080/"
        },
        "id": "vgFYNJebLrZn",
        "outputId": "d58127fd-3094-4f11-f3b5-859ea8b57220"
      },
      "execution_count": 24,
      "outputs": [
        {
          "output_type": "stream",
          "name": "stdout",
          "text": [
            "0.0\n"
          ]
        }
      ]
    },
    {
      "cell_type": "code",
      "source": [
        "A = np.array([14,25,16])\n",
        "B = np.array([17,21,31])\n",
        "np.hstack((A,B))"
      ],
      "metadata": {
        "colab": {
          "base_uri": "https://localhost:8080/"
        },
        "id": "zzK9hNBlMSrH",
        "outputId": "8115308e-adc3-45e0-c532-308ff2a81073"
      },
      "execution_count": 25,
      "outputs": [
        {
          "output_type": "execute_result",
          "data": {
            "text/plain": [
              "array([14, 25, 16, 17, 21, 31])"
            ]
          },
          "metadata": {},
          "execution_count": 25
        }
      ]
    },
    {
      "cell_type": "code",
      "source": [
        "A = np.array([14,25,16])\n",
        "B = np.array([17,21,31])\n",
        "np.row_stack((A,B))"
      ],
      "metadata": {
        "colab": {
          "base_uri": "https://localhost:8080/"
        },
        "id": "rSqBh-gzMcf3",
        "outputId": "7ae1d565-5e72-4da5-df63-0f6813d828c0"
      },
      "execution_count": 26,
      "outputs": [
        {
          "output_type": "execute_result",
          "data": {
            "text/plain": [
              "array([[14, 25, 16],\n",
              "       [17, 21, 31]])"
            ]
          },
          "metadata": {},
          "execution_count": 26
        }
      ]
    },
    {
      "cell_type": "code",
      "source": [
        "A = np.array([14,25,16])\n",
        "B = np.array([17,21,31])\n",
        "np.column_stack((A,B))"
      ],
      "metadata": {
        "colab": {
          "base_uri": "https://localhost:8080/"
        },
        "id": "Zs1SiHjjMcjX",
        "outputId": "2fc421fc-a0c2-43a7-8f21-8045d94c5541"
      },
      "execution_count": 27,
      "outputs": [
        {
          "output_type": "execute_result",
          "data": {
            "text/plain": [
              "array([[14, 17],\n",
              "       [25, 21],\n",
              "       [16, 31]])"
            ]
          },
          "metadata": {},
          "execution_count": 27
        }
      ]
    },
    {
      "cell_type": "code",
      "source": [
        "A = np.array([14,25,16])\n",
        "B = np.array([17,21,31])\n",
        "np.stack((A,B), axis=0)"
      ],
      "metadata": {
        "colab": {
          "base_uri": "https://localhost:8080/"
        },
        "id": "-CxW4R9EMcpq",
        "outputId": "6bafd691-5ecd-4342-fd49-a526e5a44c23"
      },
      "execution_count": 28,
      "outputs": [
        {
          "output_type": "execute_result",
          "data": {
            "text/plain": [
              "array([[14, 25, 16],\n",
              "       [17, 21, 31]])"
            ]
          },
          "metadata": {},
          "execution_count": 28
        }
      ]
    },
    {
      "cell_type": "code",
      "source": [
        "A = np.array([14,25,16])\n",
        "B = np.array([17,21,31])\n",
        "np.vstack((A,B))"
      ],
      "metadata": {
        "colab": {
          "base_uri": "https://localhost:8080/"
        },
        "id": "nVMrDWBeMctG",
        "outputId": "e8a199a2-a475-41fc-c6d5-f7412665686a"
      },
      "execution_count": 29,
      "outputs": [
        {
          "output_type": "execute_result",
          "data": {
            "text/plain": [
              "array([[14, 25, 16],\n",
              "       [17, 21, 31]])"
            ]
          },
          "metadata": {},
          "execution_count": 29
        }
      ]
    },
    {
      "cell_type": "code",
      "source": [
        "A = np.array([[1,2],[3,4],[4,5],[5,6]])\n",
        "np.hsplit(A,2)"
      ],
      "metadata": {
        "colab": {
          "base_uri": "https://localhost:8080/"
        },
        "id": "niYXLhMhNEaE",
        "outputId": "7d5caae0-a584-40a2-c6d4-f335ad210539"
      },
      "execution_count": 30,
      "outputs": [
        {
          "output_type": "execute_result",
          "data": {
            "text/plain": [
              "[array([[1],\n",
              "        [3],\n",
              "        [4],\n",
              "        [5]]), array([[2],\n",
              "        [4],\n",
              "        [5],\n",
              "        [6]])]"
            ]
          },
          "metadata": {},
          "execution_count": 30
        }
      ]
    },
    {
      "cell_type": "code",
      "source": [
        "A = np.array([[[1,2],[3,4],[4,5],[5,6]]])\n",
        "np.dsplit(A, 2)"
      ],
      "metadata": {
        "colab": {
          "base_uri": "https://localhost:8080/"
        },
        "id": "4qg7VQipNEd0",
        "outputId": "d0891ac6-6ac1-453b-8249-30538122bd27"
      },
      "execution_count": 31,
      "outputs": [
        {
          "output_type": "execute_result",
          "data": {
            "text/plain": [
              "[array([[[1],\n",
              "         [3],\n",
              "         [4],\n",
              "         [5]]]), array([[[2],\n",
              "         [4],\n",
              "         [5],\n",
              "         [6]]])]"
            ]
          },
          "metadata": {},
          "execution_count": 31
        }
      ]
    },
    {
      "cell_type": "code",
      "source": [
        "A = np.array([[1,2],[3,4],[4,5],[5,6]])\n",
        "np.vsplit(A, 2)"
      ],
      "metadata": {
        "colab": {
          "base_uri": "https://localhost:8080/"
        },
        "id": "pAp5Dwu-NEhU",
        "outputId": "ab7612ef-b1d4-431c-ab9f-00fda6a9c739"
      },
      "execution_count": 32,
      "outputs": [
        {
          "output_type": "execute_result",
          "data": {
            "text/plain": [
              "[array([[1, 2],\n",
              "        [3, 4]]), array([[4, 5],\n",
              "        [5, 6]])]"
            ]
          },
          "metadata": {},
          "execution_count": 32
        }
      ]
    },
    {
      "cell_type": "code",
      "source": [
        "A = np.array([[1,2],[3,4],[4,5],[5,6]])\n",
        "np.array_split(A, 2, axis=1)"
      ],
      "metadata": {
        "colab": {
          "base_uri": "https://localhost:8080/"
        },
        "id": "Nq62NzT3NEkB",
        "outputId": "14f5b1bb-62da-4f63-d73a-08462d02a0c5"
      },
      "execution_count": 33,
      "outputs": [
        {
          "output_type": "execute_result",
          "data": {
            "text/plain": [
              "[array([[1],\n",
              "        [3],\n",
              "        [4],\n",
              "        [5]]), array([[2],\n",
              "        [4],\n",
              "        [5],\n",
              "        [6]])]"
            ]
          },
          "metadata": {},
          "execution_count": 33
        }
      ]
    },
    {
      "cell_type": "code",
      "source": [
        "A = np.array([[1,2],[3,4],[4,5],[5,6]])\n",
        "np.split(A, 2, axis=0)"
      ],
      "metadata": {
        "colab": {
          "base_uri": "https://localhost:8080/"
        },
        "id": "zvxpmaxHNEmi",
        "outputId": "622291bb-40ca-46b3-ec30-c557f9dc9921"
      },
      "execution_count": 34,
      "outputs": [
        {
          "output_type": "execute_result",
          "data": {
            "text/plain": [
              "[array([[1, 2],\n",
              "        [3, 4]]), array([[4, 5],\n",
              "        [5, 6]])]"
            ]
          },
          "metadata": {},
          "execution_count": 34
        }
      ]
    },
    {
      "cell_type": "code",
      "source": [
        "A = np.array([14,25,16])\n",
        "B = np.array([17,21,31])\n",
        "np.dstack((B,A))"
      ],
      "metadata": {
        "colab": {
          "base_uri": "https://localhost:8080/"
        },
        "id": "84_LKK-mNEps",
        "outputId": "e2b7d2cd-dd18-42eb-e372-54505af6c40e"
      },
      "execution_count": 35,
      "outputs": [
        {
          "output_type": "execute_result",
          "data": {
            "text/plain": [
              "array([[[17, 14],\n",
              "        [21, 25],\n",
              "        [31, 16]]])"
            ]
          },
          "metadata": {},
          "execution_count": 35
        }
      ]
    },
    {
      "cell_type": "code",
      "source": [
        "A = np.array([[4,2,4],[1,2,0],[3,9,0]])\n",
        "B = np.array([[2,2,1],[4,2,0],[2,5,3]])\n",
        "np.cross(A,B)"
      ],
      "metadata": {
        "colab": {
          "base_uri": "https://localhost:8080/"
        },
        "id": "wxCtQspCNE9o",
        "outputId": "79d8334d-35c5-4773-ee3c-8409dc32a5ec"
      },
      "execution_count": 36,
      "outputs": [
        {
          "output_type": "execute_result",
          "data": {
            "text/plain": [
              "array([[-6,  4,  4],\n",
              "       [ 0,  0, -6],\n",
              "       [27, -9, -3]])"
            ]
          },
          "metadata": {},
          "execution_count": 36
        }
      ]
    },
    {
      "cell_type": "code",
      "source": [
        "A = np.array([[4,2,4],[1,2,0],[3,9,0]])\n",
        "A*2"
      ],
      "metadata": {
        "colab": {
          "base_uri": "https://localhost:8080/"
        },
        "id": "qmPbYQiSNFA5",
        "outputId": "2c1e7316-1201-4290-d806-bab63547bafc"
      },
      "execution_count": 37,
      "outputs": [
        {
          "output_type": "execute_result",
          "data": {
            "text/plain": [
              "array([[ 8,  4,  8],\n",
              "       [ 2,  4,  0],\n",
              "       [ 6, 18,  0]])"
            ]
          },
          "metadata": {},
          "execution_count": 37
        }
      ]
    },
    {
      "cell_type": "code",
      "source": [
        "A = np.array([[4,2,4],[1,2,0],[3,9,0]])\n",
        "B = np.array([1,2,1])\n",
        "np.dot(A,B)"
      ],
      "metadata": {
        "colab": {
          "base_uri": "https://localhost:8080/"
        },
        "id": "sjYfyl0tNHCN",
        "outputId": "6bf573ce-ca10-415b-a9f0-eb8d5118c853"
      },
      "execution_count": 38,
      "outputs": [
        {
          "output_type": "execute_result",
          "data": {
            "text/plain": [
              "array([12,  5, 21])"
            ]
          },
          "metadata": {},
          "execution_count": 38
        }
      ]
    },
    {
      "cell_type": "code",
      "source": [
        "A = np.array([[4,2,4],[1,2,0],[3,9,0]])\n",
        "B = np.array([[1,2,7],[4,2,2],[3,4,12]])\n",
        "np.dot(A, B)"
      ],
      "metadata": {
        "colab": {
          "base_uri": "https://localhost:8080/"
        },
        "id": "Q8NxzOfKNJGq",
        "outputId": "1973cc42-32b2-4273-f9c5-2a1f216b15b2"
      },
      "execution_count": 39,
      "outputs": [
        {
          "output_type": "execute_result",
          "data": {
            "text/plain": [
              "array([[24, 28, 80],\n",
              "       [ 9,  6, 11],\n",
              "       [39, 24, 39]])"
            ]
          },
          "metadata": {},
          "execution_count": 39
        }
      ]
    },
    {
      "cell_type": "code",
      "source": [],
      "metadata": {
        "id": "r1wi3bCPNKCr"
      },
      "execution_count": null,
      "outputs": []
    }
  ]
}